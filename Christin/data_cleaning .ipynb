{
 "cells": [
  {
   "cell_type": "markdown",
   "id": "6d1db959",
   "metadata": {},
   "source": [
    "# Exploratory Data Analysis"
   ]
  },
  {
   "cell_type": "code",
   "execution_count": 1,
   "id": "b35e8583",
   "metadata": {},
   "outputs": [],
   "source": [
    "# Importing Dependencies\n",
    "import pandas as pd\n",
    "import numpy as np\n",
    "import matplotlib.pyplot as plt\n",
    "import seaborn as sns"
   ]
  },
  {
   "cell_type": "code",
   "execution_count": 2,
   "id": "23b0bf84",
   "metadata": {},
   "outputs": [],
   "source": [
    "# Ignore warnings\n",
    "import warnings\n",
    "warnings.filterwarnings(\"ignore\")"
   ]
  },
  {
   "cell_type": "code",
   "execution_count": 3,
   "id": "ddcec3fb",
   "metadata": {},
   "outputs": [],
   "source": [
    "# Loading Cancer Data\n",
    "df = pd.read_csv(\"../Out_data/final_data.csv\")"
   ]
  },
  {
   "cell_type": "code",
   "execution_count": 4,
   "id": "0c4d0cbf",
   "metadata": {},
   "outputs": [
    {
     "data": {
      "text/html": [
       "<div>\n",
       "<style scoped>\n",
       "    .dataframe tbody tr th:only-of-type {\n",
       "        vertical-align: middle;\n",
       "    }\n",
       "\n",
       "    .dataframe tbody tr th {\n",
       "        vertical-align: top;\n",
       "    }\n",
       "\n",
       "    .dataframe thead th {\n",
       "        text-align: right;\n",
       "    }\n",
       "</style>\n",
       "<table border=\"1\" class=\"dataframe\">\n",
       "  <thead>\n",
       "    <tr style=\"text-align: right;\">\n",
       "      <th></th>\n",
       "      <th>Unnamed: 0</th>\n",
       "      <th>Country/State</th>\n",
       "      <th>Value</th>\n",
       "      <th>Coordinates</th>\n",
       "    </tr>\n",
       "  </thead>\n",
       "  <tbody>\n",
       "    <tr>\n",
       "      <th>0</th>\n",
       "      <td>0</td>\n",
       "      <td>Alabama</td>\n",
       "      <td>450.8</td>\n",
       "      <td>[32.806671, -86.791130]</td>\n",
       "    </tr>\n",
       "    <tr>\n",
       "      <th>1</th>\n",
       "      <td>1</td>\n",
       "      <td>Alaska</td>\n",
       "      <td>418.6</td>\n",
       "      <td>[61.370716, -152.404419]</td>\n",
       "    </tr>\n",
       "    <tr>\n",
       "      <th>2</th>\n",
       "      <td>2</td>\n",
       "      <td>Arizona</td>\n",
       "      <td>385.7</td>\n",
       "      <td>[33.729759, -111.431221]</td>\n",
       "    </tr>\n",
       "    <tr>\n",
       "      <th>3</th>\n",
       "      <td>3</td>\n",
       "      <td>Arkansas</td>\n",
       "      <td>479.0</td>\n",
       "      <td>[34.969704, -105.311104]</td>\n",
       "    </tr>\n",
       "    <tr>\n",
       "      <th>4</th>\n",
       "      <td>4</td>\n",
       "      <td>California</td>\n",
       "      <td>402.4</td>\n",
       "      <td>[36.116203, -119.681564]</td>\n",
       "    </tr>\n",
       "  </tbody>\n",
       "</table>\n",
       "</div>"
      ],
      "text/plain": [
       "   Unnamed: 0 Country/State  Value               Coordinates\n",
       "0           0       Alabama  450.8   [32.806671, -86.791130]\n",
       "1           1        Alaska  418.6  [61.370716, -152.404419]\n",
       "2           2       Arizona  385.7  [33.729759, -111.431221]\n",
       "3           3      Arkansas  479.0  [34.969704, -105.311104]\n",
       "4           4    California  402.4  [36.116203, -119.681564]"
      ]
     },
     "execution_count": 4,
     "metadata": {},
     "output_type": "execute_result"
    }
   ],
   "source": [
    "df.head()"
   ]
  },
  {
   "cell_type": "code",
   "execution_count": 5,
   "id": "282a96ec",
   "metadata": {},
   "outputs": [],
   "source": [
    "# Selecting Columns: \"Country/State\", \"Value\", \"Coordinates\"\n",
    "df2 = df[[\"Country/State\", \"Value\", \"Coordinates\"]]"
   ]
  },
  {
   "cell_type": "code",
   "execution_count": 6,
   "id": "984eb2b7",
   "metadata": {},
   "outputs": [
    {
     "data": {
      "text/html": [
       "<div>\n",
       "<style scoped>\n",
       "    .dataframe tbody tr th:only-of-type {\n",
       "        vertical-align: middle;\n",
       "    }\n",
       "\n",
       "    .dataframe tbody tr th {\n",
       "        vertical-align: top;\n",
       "    }\n",
       "\n",
       "    .dataframe thead th {\n",
       "        text-align: right;\n",
       "    }\n",
       "</style>\n",
       "<table border=\"1\" class=\"dataframe\">\n",
       "  <thead>\n",
       "    <tr style=\"text-align: right;\">\n",
       "      <th></th>\n",
       "      <th>Country/State</th>\n",
       "      <th>Value</th>\n",
       "      <th>Coordinates</th>\n",
       "    </tr>\n",
       "  </thead>\n",
       "  <tbody>\n",
       "    <tr>\n",
       "      <th>0</th>\n",
       "      <td>Alabama</td>\n",
       "      <td>450.8</td>\n",
       "      <td>[32.806671, -86.791130]</td>\n",
       "    </tr>\n",
       "    <tr>\n",
       "      <th>1</th>\n",
       "      <td>Alaska</td>\n",
       "      <td>418.6</td>\n",
       "      <td>[61.370716, -152.404419]</td>\n",
       "    </tr>\n",
       "    <tr>\n",
       "      <th>2</th>\n",
       "      <td>Arizona</td>\n",
       "      <td>385.7</td>\n",
       "      <td>[33.729759, -111.431221]</td>\n",
       "    </tr>\n",
       "    <tr>\n",
       "      <th>3</th>\n",
       "      <td>Arkansas</td>\n",
       "      <td>479.0</td>\n",
       "      <td>[34.969704, -105.311104]</td>\n",
       "    </tr>\n",
       "    <tr>\n",
       "      <th>4</th>\n",
       "      <td>California</td>\n",
       "      <td>402.4</td>\n",
       "      <td>[36.116203, -119.681564]</td>\n",
       "    </tr>\n",
       "    <tr>\n",
       "      <th>...</th>\n",
       "      <td>...</td>\n",
       "      <td>...</td>\n",
       "      <td>...</td>\n",
       "    </tr>\n",
       "    <tr>\n",
       "      <th>97</th>\n",
       "      <td>Nunavut</td>\n",
       "      <td>180.7</td>\n",
       "      <td>[70.2998, 83.1076]</td>\n",
       "    </tr>\n",
       "    <tr>\n",
       "      <th>98</th>\n",
       "      <td>Ontario</td>\n",
       "      <td>555.0</td>\n",
       "      <td>[51.2538, 85.3232]</td>\n",
       "    </tr>\n",
       "    <tr>\n",
       "      <th>99</th>\n",
       "      <td>Prince Edward Island</td>\n",
       "      <td>616.8</td>\n",
       "      <td>[46.5107, 63.4168]</td>\n",
       "    </tr>\n",
       "    <tr>\n",
       "      <th>100</th>\n",
       "      <td>Saskatchewan</td>\n",
       "      <td>491.0</td>\n",
       "      <td>[52.9399, 106.4509]</td>\n",
       "    </tr>\n",
       "    <tr>\n",
       "      <th>101</th>\n",
       "      <td>Yukon</td>\n",
       "      <td>363.5</td>\n",
       "      <td>[64.2823, 135.0000]</td>\n",
       "    </tr>\n",
       "  </tbody>\n",
       "</table>\n",
       "<p>102 rows × 3 columns</p>\n",
       "</div>"
      ],
      "text/plain": [
       "            Country/State  Value               Coordinates\n",
       "0                 Alabama  450.8   [32.806671, -86.791130]\n",
       "1                  Alaska  418.6  [61.370716, -152.404419]\n",
       "2                 Arizona  385.7  [33.729759, -111.431221]\n",
       "3                Arkansas  479.0  [34.969704, -105.311104]\n",
       "4              California  402.4  [36.116203, -119.681564]\n",
       "..                    ...    ...                       ...\n",
       "97                Nunavut  180.7        [70.2998, 83.1076]\n",
       "98                Ontario  555.0        [51.2538, 85.3232]\n",
       "99   Prince Edward Island  616.8        [46.5107, 63.4168]\n",
       "100          Saskatchewan  491.0       [52.9399, 106.4509]\n",
       "101                 Yukon  363.5       [64.2823, 135.0000]\n",
       "\n",
       "[102 rows x 3 columns]"
      ]
     },
     "execution_count": 6,
     "metadata": {},
     "output_type": "execute_result"
    }
   ],
   "source": [
    "# Cleaned DataFrame\n",
    "df2"
   ]
  },
  {
   "cell_type": "code",
   "execution_count": 7,
   "id": "0aeef716",
   "metadata": {},
   "outputs": [],
   "source": [
    "# Exporting cleaned cancer data to .csv\n",
    "df2.to_csv(\"../Out_data/cleaned_data.csv\", encoding='utf-8', index = False, header=True)"
   ]
  },
  {
   "cell_type": "code",
   "execution_count": null,
   "id": "95f7f6c1",
   "metadata": {},
   "outputs": [],
   "source": []
  }
 ],
 "metadata": {
  "kernelspec": {
   "display_name": "Python 3 (ipykernel)",
   "language": "python",
   "name": "python3"
  },
  "language_info": {
   "codemirror_mode": {
    "name": "ipython",
    "version": 3
   },
   "file_extension": ".py",
   "mimetype": "text/x-python",
   "name": "python",
   "nbconvert_exporter": "python",
   "pygments_lexer": "ipython3",
   "version": "3.9.7"
  }
 },
 "nbformat": 4,
 "nbformat_minor": 5
}
